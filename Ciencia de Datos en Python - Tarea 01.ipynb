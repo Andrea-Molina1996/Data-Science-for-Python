{
 "cells": [
  {
   "cell_type": "markdown",
   "metadata": {},
   "source": [
    "# Hoja de Trabajo # 1 - Jupyter Notebooks, Markdown y Git\n"
   ]
  },
  {
   "cell_type": "markdown",
   "metadata": {},
   "source": [
    "## Cual es el beneficio de usar Git? \n",
    "Uno de los beneficios mas importantes de utilizar Git o en general un **controlador de versiones** es poder darlse seguimiento a los cambios realizados en el codigo, esto tambien se aplica a otro tipo de archivos o carpetas. Esta herramienta permite la colaboracion de multiples personas en un solo proyecto, facilita la interaccion de un equipo de trabajo.\n",
    "\n",
    "Permite crear *snapshots* que encapsulan el estado de archivos y carpetas asi como almacenar metadata como quien creo el *snapshot*, cuando se creo y que cambios respecto a el anterior sucedieron. \n",
    "\n"
   ]
  },
  {
   "cell_type": "markdown",
   "metadata": {},
   "source": [
    "### Snapshot\n"
   ]
  },
  {
   "cell_type": "raw",
   "metadata": {},
   "source": [
    "<root> (tree)\n",
    "|\n",
    "+- foo (tree)\n",
    "|  |\n",
    "|  + bar.txt (blob, contents = \"hello world\")\n",
    "|\n",
    "+- baz.txt (blob, contents = \"git is wonderful\")"
   ]
  },
  {
   "cell_type": "markdown",
   "metadata": {},
   "source": [
    "Git modela el historial de una colección de archivos y carpetas dentro de algún directorio de nivel superior como una serie de instantáneas."
   ]
  },
  {
   "cell_type": "markdown",
   "metadata": {},
   "source": [
    "### Git command-line"
   ]
  },
  {
   "cell_type": "markdown",
   "metadata": {},
   "source": [
    "#### Comandos basicos"
   ]
  },
  {
   "cell_type": "raw",
   "metadata": {},
   "source": [
    "git help <command>: ayuda\n",
    "git init: crea un nuevo repositorio en el folder indicado .git\n",
    "git status: muestra el estatus de los archivos (cambios en rojo)\n",
    "git add <filename>: agrega un archivo\n",
    "git commit: crea un nuevo commit (-m utilizar la bandera para colocar un msg especifico)\n",
    "git log: historial de logs\n",
    "git diff <filename>: muestra cambios a un archivo\n",
    "git diff <revision> <filename>: muestra cambios a un archivo de un commit especifico\n",
    "git checkout <revision>: cambiar el branch actual"
   ]
  },
  {
   "cell_type": "markdown",
   "metadata": {},
   "source": [
    "#### Comandos para branch y merge"
   ]
  },
  {
   "cell_type": "raw",
   "metadata": {},
   "source": [
    "git branch: muestra los branches\n",
    "git branch <name>: crea un branch\n",
    "git checkout -b <name>: crea un branch y cambia\n",
    "git merge <revision>: hace merge al branch actual \n",
    "git mergetool: herramienta para visualizar los cambios para el merge"
   ]
  },
  {
   "cell_type": "markdown",
   "metadata": {},
   "source": []
  }
 ],
 "metadata": {
  "kernelspec": {
   "display_name": "Python 3",
   "language": "python",
   "name": "python3"
  },
  "language_info": {
   "codemirror_mode": {
    "name": "ipython",
    "version": 3
   },
   "file_extension": ".py",
   "mimetype": "text/x-python",
   "name": "python",
   "nbconvert_exporter": "python",
   "pygments_lexer": "ipython3",
   "version": "3.8.5"
  }
 },
 "nbformat": 4,
 "nbformat_minor": 4
}
