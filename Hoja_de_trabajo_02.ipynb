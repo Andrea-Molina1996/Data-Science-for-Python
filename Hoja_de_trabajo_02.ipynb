{
  "nbformat": 4,
  "nbformat_minor": 0,
  "metadata": {
    "colab": {
      "name": "Hoja de trabajo 02.ipynb",
      "provenance": [],
      "authorship_tag": "ABX9TyNWIgov51aXS6Cq3vKl56sl",
      "include_colab_link": true
    },
    "kernelspec": {
      "name": "python3",
      "display_name": "Python 3"
    }
  },
  "cells": [
    {
      "cell_type": "markdown",
      "metadata": {
        "id": "view-in-github",
        "colab_type": "text"
      },
      "source": [
        "<a href=\"https://colab.research.google.com/github/Andrea-Molina1996/Data-Science-for-Python/blob/main/Hoja_de_trabajo_02.ipynb\" target=\"_parent\"><img src=\"https://colab.research.google.com/assets/colab-badge.svg\" alt=\"Open In Colab\"/></a>"
      ]
    },
    {
      "cell_type": "markdown",
      "metadata": {
        "id": "vokNWZOXyRWA"
      },
      "source": [
        "# Parte 01 - (Programacion y Sintaxis):\r\n",
        "## Ejercicio 1\r\n",
        "Haga un programa en Python que reciba de parametro un numero de segundos y que despliegue en pantalla, las horas, minutos y segundos que representan."
      ]
    },
    {
      "cell_type": "code",
      "metadata": {
        "colab": {
          "base_uri": "https://localhost:8080/"
        },
        "id": "N-DXG-nAyvI9",
        "outputId": "a464338e-2493-46fa-8a82-6916c805ea25"
      },
      "source": [
        "def secondsToTimeFormatt(time):\r\n",
        "  day = time // (24 * 3600)\r\n",
        "  time = time % (24 * 3600)\r\n",
        "  hour = time // 3600\r\n",
        "  time %= 3600\r\n",
        "  minutes = time // 60\r\n",
        "  time %= 60\r\n",
        "  seconds = time\r\n",
        "  print(\"%d:%d:%d:%d\" % (day, hour, minutes, seconds))\r\n",
        "\r\n",
        "secondsToTimeFormatt(2743)"
      ],
      "execution_count": 4,
      "outputs": [
        {
          "output_type": "stream",
          "text": [
            "0:0:45:43\n"
          ],
          "name": "stdout"
        }
      ]
    },
    {
      "cell_type": "markdown",
      "metadata": {
        "id": "ZqQsm8AR1N0n"
      },
      "source": [
        "## Ejercicio 3\r\n",
        "Haga un programa en Python que la fecha de nacimiento de una persona (puede ingresar por separado cada valor, es decir pedir primero da, luego mes y luego año), despliegue la edad de la persona en años, meses y dias."
      ]
    },
    {
      "cell_type": "code",
      "metadata": {
        "colab": {
          "base_uri": "https://localhost:8080/"
        },
        "id": "oS1rJJxx0Ujz",
        "outputId": "cfa09fa2-d7be-448d-db69-82da76bfc498"
      },
      "source": [
        "import datetime\r\n",
        "\r\n",
        "def getAge(day, month, year):\r\n",
        "  now = datetime.datetime.now()\r\n",
        "  if now.month < month:\r\n",
        "    yearsOld = now.year - year - 1\r\n",
        "    monthsOld = 11 - now.month \r\n",
        "    if now.day > day:\r\n",
        "      daysOld = abs(now.day - day)\r\n",
        "    else:\r\n",
        "      daysOld = day - abs(now.day - day)\r\n",
        "  else:\r\n",
        "    yearsOld = now.year - year\r\n",
        "    monthsOld = abs(now.month - month)\r\n",
        "    if now.day > day:\r\n",
        "      daysOld = abs(now.day - day)\r\n",
        "    else:\r\n",
        "      daysOld = day - abs(now.day - day)\r\n",
        "\r\n",
        "  print(\"%d:%d:%d\" % (yearsOld, monthsOld, daysOld))\r\n",
        "getAge(11,5,1996)"
      ],
      "execution_count": 8,
      "outputs": [
        {
          "output_type": "stream",
          "text": [
            "24:9:10\n"
          ],
          "name": "stdout"
        }
      ]
    },
    {
      "cell_type": "markdown",
      "metadata": {
        "id": "a447nR2FVX9K"
      },
      "source": [
        "#Parte 2 - (Estructuras de Datos):\r\n",
        "# Ejercicio 1\r\n",
        "Escriba una funcion en Python que dada una tupla de elementos (numeros o letras) esta se convierta a un string.\r\n",
        "\r\n",
        "\r\n",
        "\r\n"
      ]
    },
    {
      "cell_type": "code",
      "metadata": {
        "colab": {
          "base_uri": "https://localhost:8080/",
          "height": 35
        },
        "id": "OZ_gk4-rSVwK",
        "outputId": "789576f4-0fdb-445c-89ae-421b298e28b0"
      },
      "source": [
        "def tupleToString(*tuples):\r\n",
        "  result = \"\"\r\n",
        "  for i in tuples:\r\n",
        "    result += str(i)\r\n",
        "  return result\r\n",
        "\r\n",
        "tupleToString(10, 20, 40, 5, 70)"
      ],
      "execution_count": 6,
      "outputs": [
        {
          "output_type": "execute_result",
          "data": {
            "application/vnd.google.colaboratory.intrinsic+json": {
              "type": "string"
            },
            "text/plain": [
              "'102040570'"
            ]
          },
          "metadata": {
            "tags": []
          },
          "execution_count": 6
        }
      ]
    },
    {
      "cell_type": "markdown",
      "metadata": {
        "id": "yLwcXTF-LsoE"
      },
      "source": [
        "## Ejercicio 2\r\n",
        "Cree un programa en Python que dada una lista de tuplas, elimine las tuplas que est\u0013an vacas."
      ]
    },
    {
      "cell_type": "code",
      "metadata": {
        "colab": {
          "base_uri": "https://localhost:8080/"
        },
        "id": "To787ENOIMkR",
        "outputId": "f988f010-6e0c-403a-af6f-a7a5e544f4c5"
      },
      "source": [
        "def removeEmptyTuple(*list):\r\n",
        "  return [x for x in list if x != '']\r\n",
        "\r\n",
        "removeEmptyTuple('', '', 'X', 'a', 'b', 'a', 'b', 'c', 'd')"
      ],
      "execution_count": 16,
      "outputs": [
        {
          "output_type": "execute_result",
          "data": {
            "text/plain": [
              "['X', 'a', 'b', 'a', 'b', 'c', 'd']"
            ]
          },
          "metadata": {
            "tags": []
          },
          "execution_count": 16
        }
      ]
    },
    {
      "cell_type": "markdown",
      "metadata": {
        "id": "nh5R_zGfPFdO"
      },
      "source": [
        "## Ejercicio 3\r\n",
        "Cree una funci\u0013on en Python que dada una tupla de tuplas con numeros, produzca una tupla con el promedio de cada tupla individual."
      ]
    },
    {
      "cell_type": "code",
      "metadata": {
        "colab": {
          "base_uri": "https://localhost:8080/"
        },
        "id": "Ew8NHdx9MnO1",
        "outputId": "39b47a52-2cec-496d-fc45-d96a468d95b3"
      },
      "source": [
        "def avergageTuple(*A):\r\n",
        "  listResult = []\r\n",
        "  index = 0\r\n",
        "  for row in A:\r\n",
        "    temp = 0\r\n",
        "    for cell in row:\r\n",
        "        temp += cell\r\n",
        "    temp = temp / len(row)\r\n",
        "    listResult.append(temp)\r\n",
        "  return listResult\r\n",
        "\r\n",
        "print(avergageTuple((10, 10, 10, 12), (30, 45, 56, 45), (81, 80, 39, 32)))"
      ],
      "execution_count": 38,
      "outputs": [
        {
          "output_type": "stream",
          "text": [
            "[10.5, 44.0, 58.0]\n"
          ],
          "name": "stdout"
        }
      ]
    },
    {
      "cell_type": "code",
      "metadata": {
        "id": "zxEGPvemTLIf"
      },
      "source": [
        ""
      ],
      "execution_count": null,
      "outputs": []
    }
  ]
}